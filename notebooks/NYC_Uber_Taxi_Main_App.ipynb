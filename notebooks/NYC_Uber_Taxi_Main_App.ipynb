{
 "cells": [
  {
   "cell_type": "markdown",
   "metadata": {},
   "source": [
    "# 1. Get data from Azure SQL DB"
   ]
  },
  {
   "cell_type": "code",
   "execution_count": null,
   "metadata": {},
   "outputs": [],
   "source": [
    "import pyodbc\n",
    "\n",
    "server = 'dataproject.database.windows.net'\n",
    "database = 'Data515Project'\n",
    "username = 'uberandtaxinyc'\n",
    "password = 'Lzcnhwzcylyw515!'\n",
    "driver= '{ODBC Driver 13 for SQL Server}'\n",
    "cnxn = pyodbc.connect('DRIVER='+driver+';PORT=1433;SERVER='+server+';PORT=1443;DATABASE='+database+';UID='+username+';PWD='+ password)\n",
    "cursor = cnxn.cursor()\n",
    "cursor.execute(\"SELECT COUNT(*) FROM [dbo].[apr_time] WHERE [day] = 14\")\n",
    "row = cursor.fetchone()\n",
    "while row:\n",
    "    print(row)\n",
    "    row = cursor.fetchone()"
   ]
  },
  {
   "cell_type": "markdown",
   "metadata": {},
   "source": [
    "# 2. Import and clean the NYC shape data"
   ]
  },
  {
   "cell_type": "code",
   "execution_count": 1,
   "metadata": {
    "collapsed": true
   },
   "outputs": [],
   "source": [
    "import json\n",
    "\n",
    "def read_json(filename):\n",
    "    \"\"\"\n",
    "    A function read the json file and process the Neighborhoods and Coordinates\n",
    "\n",
    "    Parameter: filename, a json file)\n",
    "\n",
    "    Return: result, a dictionary contains\n",
    "            key: Neighborhood,\n",
    "            value: a list of coordinate corresponding to the that neighborhood\n",
    "    \"\"\"\n",
    "\n",
    "    with open(filename) as f:\n",
    "        data = json.load(f)\n",
    "\n",
    "    result = {}\n",
    "    for feature in data['features']:\n",
    "        \n",
    "        # NATName = Neighborhood Tabulation Area Name\n",
    "        \n",
    "        neighborhood = feature['properties']['NTAName']\n",
    "        coordinates = feature['geometry']['coordinates'][0] # 3 layers or 2 layers\n",
    "        \n",
    "        if len(coordinates[0]) > 2:\n",
    "            # 3 layers\n",
    "            coordinates = coordinates[0]\n",
    "\n",
    "        result[neighborhood] = coordinates\n",
    "\n",
    "        \n",
    "    return result\n"
   ]
  },
  {
   "cell_type": "code",
   "execution_count": 2,
   "metadata": {
    "collapsed": true
   },
   "outputs": [],
   "source": [
    "shapes = read_json(\"./data/NYC_Shapes.json\")"
   ]
  },
  {
   "cell_type": "code",
   "execution_count": 3,
   "metadata": {
    "collapsed": true
   },
   "outputs": [],
   "source": [
    "# result = {\"Borough Park\" : [[lat1, lon1], [lat2, lon2], ...]}\n",
    "\n",
    "\"\"\"\n",
    "polygons =\n",
    "{\n",
    "\"Borough Park\" : {Lat : [], Lon : []}\n",
    "\"East Flushing\" : {Lat : [], Lon : []}\n",
    "\"Auburndale\" : {Lat : [], Lon : []}\n",
    ".\n",
    ".\n",
    ".\n",
    "\"Elmhurst\" : {Lat : [], Lon : []}\n",
    "}\n",
    "\"\"\"\n",
    "\n",
    "def process_coordinates(result):\n",
    "    \"\"\"\n",
    "    A function read the dictionary contains\n",
    "\n",
    "    key: neighborhood\n",
    "    value: list of coordinates (latitude, longitude)\n",
    "\n",
    "    and reconstruct a new dictionary contains\n",
    "    key: neighborhood\n",
    "    value: a dictionary contains a list of latitudes and a list of longitudes.\n",
    "\n",
    "    Parameter: result dictionary, contains neighborhoods and list of coordinates\n",
    "\n",
    "    Return: polygon dictionary, contains neighborhoods\n",
    "            and a list of latitudes and a list of longitudes\n",
    "    \"\"\"\n",
    "\n",
    "    polygons = {}\n",
    "    for neighborhood in shapes.keys():\n",
    "\n",
    "        coordinates = result[neighborhood]\n",
    "\n",
    "        lat_list = []\n",
    "        lon_list = []\n",
    "\n",
    "        for coordinate in coordinates:\n",
    "            lat_list.append(coordinate[1])\n",
    "            lon_list.append(coordinate[0])\n",
    "        polygons[neighborhood] = {}\n",
    "        polygons[neighborhood][\"Lat\"] = lat_list\n",
    "        polygons[neighborhood][\"Lon\"] = lon_list\n",
    "\n",
    "    return polygons"
   ]
  },
  {
   "cell_type": "code",
   "execution_count": 4,
   "metadata": {},
   "outputs": [],
   "source": [
    "nyc_neighborhoods = process_coordinates(shapes)"
   ]
  },
  {
   "cell_type": "code",
   "execution_count": null,
   "metadata": {},
   "outputs": [],
   "source": [
    "len(nyc_neighborhoods)"
   ]
  },
  {
   "cell_type": "markdown",
   "metadata": {},
   "source": [
    "# 3. Build Bokeh heat map"
   ]
  },
  {
   "cell_type": "code",
   "execution_count": 5,
   "metadata": {},
   "outputs": [],
   "source": [
    "import numpy as np\n",
    "import pandas as pd\n",
    "\n",
    "import bokeh.layouts\n",
    "from bokeh.io import output_file, show\n",
    "from bokeh.layouts import widgetbox\n",
    "from bokeh.models import (\n",
    "    BoxSelectTool,\n",
    "    Circle, \n",
    "    ColumnDataSource,\n",
    "    CustomJS,\n",
    "    DataRange1d, \n",
    "    GMapPlot,\n",
    "    GMapOptions,\n",
    "    HoverTool,\n",
    "    LogColorMapper,\n",
    "    PanTool,\n",
    "    Slider,\n",
    "    WheelZoomTool,\n",
    ")\n",
    "from bokeh.models.widgets import Button, RadioButtonGroup, Select, CheckboxButtonGroup\n",
    "from bokeh.palettes import Viridis6 as palette\n",
    "from bokeh.plotting import figure\n",
    "from bokeh.models.glyphs import Patches"
   ]
  },
  {
   "cell_type": "code",
   "execution_count": 6,
   "metadata": {},
   "outputs": [],
   "source": [
    "palette.reverse()\n",
    "\n",
    "neighborhood_xs = [neighborhood[\"Lon\"] for neighborhood in nyc_neighborhoods.values()]\n",
    "neighborhood_ys = [neighborhood[\"Lat\"] for neighborhood in nyc_neighborhoods.values()]\n",
    "neighborhoods = list(nyc_neighborhoods.keys())\n",
    "num_nodes = [len(neighborhood[\"Lat\"]) for neighborhood in nyc_neighborhoods.values()]\n",
    "\n",
    "color_mapper = LogColorMapper(palette=palette)\n",
    "\n",
    "source = ColumnDataSource(data=dict(\n",
    "    x=neighborhood_xs,\n",
    "    y=neighborhood_ys,\n",
    "    neighborhood=neighborhoods,\n",
    "    node=num_nodes,\n",
    "))\n",
    "\n",
    "# Interactions\n",
    "TOOLS = \"pan,wheel_zoom,reset,hover,save\"\n",
    "\n",
    "plot = figure(title=\"Uber Pickup Distribution\", tools=TOOLS, x_axis_location=None, y_axis_location=None\n",
    ")\n",
    "plot.grid.grid_line_color = None\n",
    "\n",
    "plot.patches('x', 'y', source=source,\n",
    "              fill_color={'field': 'node', 'transform': color_mapper},\n",
    "              fill_alpha=0.7, line_color=\"black\", line_width=0.5)\n",
    "\n",
    "callback = CustomJS(args=dict(source=source), code=\"\"\"\n",
    "    var data = source.data\n",
    "    var f = cb_obj.value;\n",
    "    node = data['node']\n",
    "    for (i = 0; i < node.length; i++) {\n",
    "        node[i] = node[i] * f / 2\n",
    "    }\n",
    "    source.trigger('change');\n",
    "\"\"\")\n",
    "\n",
    "hour_slider = Slider(start=0, end=23, step=1, title=\"Hour\", callback = callback)\n",
    "hour_slider.js_on_change('start', callback)\n"
   ]
  },
  {
   "cell_type": "code",
   "execution_count": 7,
   "metadata": {},
   "outputs": [],
   "source": [
    "hover = plot.select_one(HoverTool)\n",
    "hover.point_policy = \"follow_mouse\"\n",
    "hover.tooltips = [\n",
    "    (\"Name\", \"@neighborhood\"),\n",
    "    (\"Number of nodes\", \"@node\"),\n",
    "    (\"(Long, Lat)\", \"($x, $y)\"),\n",
    "]\n",
    "\n",
    "checkbox_button_group = CheckboxButtonGroup(labels=[\"Uber\", \"Taxi\"], active=[0, 1])\n",
    "\n",
    "select1 = Select(title=\"Month:\", value=\"Month\", options=[\"April\", \"May\", \"June\", \"July\", \"August\", \"September\"])\n",
    "select2 = Select(title=\"Date:\", value=\"Date\", options=[\"1\", \"2\", \"3\", \"4\", \"5\", \"6\", \"7\"])\n"
   ]
  },
  {
   "cell_type": "code",
   "execution_count": 8,
   "metadata": {},
   "outputs": [],
   "source": [
    "show(bokeh.layouts.row(plot, checkbox_button_group, widgetbox(hour_slider, select1, select2, width=300)))"
   ]
  },
  {
   "cell_type": "code",
   "execution_count": null,
   "metadata": {
    "collapsed": true
   },
   "outputs": [],
   "source": []
  }
 ],
 "metadata": {
  "kernelspec": {
   "display_name": "Python 3",
   "language": "python",
   "name": "python3"
  },
  "language_info": {
   "codemirror_mode": {
    "name": "ipython",
    "version": 3
   },
   "file_extension": ".py",
   "mimetype": "text/x-python",
   "name": "python",
   "nbconvert_exporter": "python",
   "pygments_lexer": "ipython3",
   "version": "3.6.1"
  }
 },
 "nbformat": 4,
 "nbformat_minor": 2
}
