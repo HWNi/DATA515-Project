{
 "cells": [
  {
   "cell_type": "code",
   "execution_count": 39,
   "metadata": {
    "collapsed": true
   },
   "outputs": [],
   "source": [
    "import numpy as np\n",
    "import pandas as pd\n",
    "\n",
    "import bokeh.layouts\n",
    "from bokeh.io import curdoc, output_file, show\n",
    "from bokeh.layouts import widgetbox\n",
    "from bokeh.models import (\n",
    "    BoxSelectTool,\n",
    "    Circle, \n",
    "    ColumnDataSource,\n",
    "    CustomJS,\n",
    "    DataRange1d, \n",
    "    GMapPlot,\n",
    "    GMapOptions,\n",
    "    HoverTool,\n",
    "    LogColorMapper,\n",
    "    PanTool,\n",
    "    Slider,\n",
    "    WheelZoomTool,\n",
    ")\n",
    "from bokeh.models.glyphs import Patches\n",
    "from bokeh.models.widgets import Button, RadioButtonGroup, Select, CheckboxButtonGroup\n",
    "from bokeh.palettes import Viridis6 as palette\n",
    "from bokeh.plotting import figure"
   ]
  },
  {
   "cell_type": "code",
   "execution_count": 51,
   "metadata": {},
   "outputs": [
    {
     "data": {
      "text/plain": [
       "195"
      ]
     },
     "execution_count": 51,
     "metadata": {},
     "output_type": "execute_result"
    }
   ],
   "source": [
    "with open('NYC_boundries_cleaned.json') as f:\n",
    "    data = json.load(f)\n",
    "nyc_neighborhoods = data\n",
    "len(nyc_neighborhoods)\n"
   ]
  },
  {
   "cell_type": "markdown",
   "metadata": {},
   "source": [
    "# 3. Build Bokeh heat map"
   ]
  },
  {
   "cell_type": "code",
   "execution_count": 64,
   "metadata": {},
   "outputs": [
    {
     "name": "stderr",
     "output_type": "stream",
     "text": [
      "/Users/zicong/anaconda/lib/python3.6/site-packages/bokeh/models/sources.py:89: BokehUserWarning: ColumnDataSource's columns must be of the same length\n",
      "  lambda: warnings.warn(\"ColumnDataSource's columns must be of the same length\", BokehUserWarning))\n",
      "/Users/zicong/anaconda/lib/python3.6/site-packages/bokeh/models/sources.py:89: BokehUserWarning: ColumnDataSource's columns must be of the same length\n",
      "  lambda: warnings.warn(\"ColumnDataSource's columns must be of the same length\", BokehUserWarning))\n"
     ]
    }
   ],
   "source": [
    "palette.reverse()\n",
    "\n",
    "color_mapper = LogColorMapper(palette=palette)\n",
    "\n",
    "neighborhood_xs = [neighborhood[\"Lon\"] for neighborhood in nyc_neighborhoods.values()]\n",
    "neighborhood_ys = [neighborhood[\"Lat\"] for neighborhood in nyc_neighborhoods.values()]\n",
    "\n",
    "neighborhood_names = list(nyc_neighborhoods.keys())\n",
    "\n",
    "# Warning\n",
    "# It is critical to note that no python code is ever executed when a CustomJS callback is used. \n",
    "# A CustomJS callback is only executed inside a browser JavaScript interpreter, \n",
    "# and can only directly interact JavaScript data and functions (e.g., BokehJS Backbone models).\n",
    "#\n",
    "# Thoughts: \n",
    "# Prepare the Uber pickup counts data, save them in to a matrix\n",
    "# Dimensions: row number = month# * day#  * hour#  = 3*31*24 = 2232\n",
    "#            column # = 195\n",
    "#\n",
    "\n",
    "\n",
    "neighborhood_counts =np.zeros(195)\n",
    "for i in range(1, 744*3):\n",
    "    append_row = np.zeros(195)+i\n",
    "    neighborhood_counts = np.vstack((neighborhood_counts, append_row))\n",
    "\n",
    "neighborhood_counts_uber = neighborhood_counts.tolist()\n",
    "neighborhood_counts_taxi = neighborhood_counts.tolist()\n",
    "\n",
    "# All 195 columns with given input value\n",
    "months = np.zeros(len(nyc_neighborhoods), dtype=int)+4\n",
    "\n",
    "days = np.zeros(len(nyc_neighborhoods), dtype=int)+1\n",
    "\n",
    "hours = np.zeros(len(nyc_neighborhoods), dtype=int)\n",
    "indicators = np.zeros(len(nyc_neighborhoods), dtype=int)\n",
    "\n",
    "source_uber = ColumnDataSource(data=dict(\n",
    "    x = neighborhood_xs,\n",
    "    y = neighborhood_ys,\n",
    "    name = neighborhood_names,\n",
    "    \n",
    "    month = months,\n",
    "    day = days,\n",
    "    hour = hours,\n",
    "    \n",
    "    values_uber = neighborhood_counts_uber,\n",
    "    value_uber = neighborhood_counts_uber[0]\n",
    "    \n",
    "    values_taxi = neighborhood_counts_taxi,\n",
    "    value_taxi = neighborhood_counts_taxi[0]\n",
    "    \n",
    "    indicator = indicators\n",
    "    \n",
    "    \n",
    "    # 0-based\n",
    "    # One month: 31*24 = 744 rows\n",
    "    # One day: 24 rows\n",
    "    #\n",
    "    \n",
    "    # April: row 0-743 (0:744)\n",
    "        # Day: chunck size 31\n",
    "            # hour: chunck size 24\n",
    "    # May: row 744-1487 (744:1488)\n",
    "    # Jun: row 1488-end\n",
    "    \n",
    "    # Example:month 5 day 12 hour 18 \n",
    "    # index = 744*($5$-4) + 24*($12$-1) + $18$\n",
    "    \n",
    "    # value = neighborhood_counts[744*(min(months)-4) + 24*(min(days)-1) + min(hours)]\n",
    "    \n",
    "))"
   ]
  },
  {
   "cell_type": "code",
   "execution_count": 73,
   "metadata": {
    "collapsed": true
   },
   "outputs": [],
   "source": [
    "callback_month = CustomJS(args=dict(source=source), code=\"\"\"\n",
    "    var data = source.data;\n",
    "    var month = month.value;\n",
    "    \n",
    "    d = data['day'][0]\n",
    "    h = data['hour'][0]\n",
    "    \n",
    "    \n",
    "    for (i = 0; i < data['month'].length; i++) {\n",
    "        data['month'][i] = month\n",
    "    }\n",
    "    \n",
    "    values = data['values']\n",
    "    data['value'] = values[744*(month-4) + 24*(d-1) + h]\n",
    "    \n",
    "    source.trigger('change');\n",
    "\"\"\")\n",
    "\n",
    "callback_day = CustomJS(args=dict(source=source), code=\"\"\"\n",
    "    var data = source.data;\n",
    "    var day = day.value;\n",
    "    \n",
    "    m = data['month'][0]\n",
    "    h = data['hour'][0]\n",
    "\n",
    "    for (i = 0; i < data['day'].length; i++) {\n",
    "        data['day'][i] = day\n",
    "    }\n",
    "    \n",
    "    values = data['values']\n",
    "    data['value'] = values[744*(m-4) + 24*(day-1) + h]\n",
    "\n",
    "    source.trigger('change');\n",
    "\"\"\")\n",
    "\n",
    "callback_hour = CustomJS(args=dict(source=source), code=\"\"\"\n",
    "    var data = source.data;\n",
    "    var hour = hour.value;\n",
    "    var indicator = indicator.value\n",
    "    \n",
    "    m = data['month'][0]\n",
    "    d = data['day'][0]\n",
    "    \n",
    "    for (i = 0; i < data['hour'].length; i++) {\n",
    "        data['hour'][i] = hour\n",
    "    }\n",
    "    \n",
    "    values = data['values']\n",
    "    data['value'] = values[744*(m-4) + 24*(d-1) + hour]\n",
    "    \n",
    "    source.trigger('change');\n",
    "\"\"\")\n",
    "\n",
    "\n",
    "callback_indicator = CustomJS(args=dict(source=source), code=\"\"\"\n",
    "    var indicator = indicator.value\n",
    "    console.log(indicator)\n",
    "\n",
    "    if (indicator[0] == 0) {\n",
    "        var data = source.data;\n",
    "        var hour = hour.value;\n",
    "\n",
    "        m = data['month'][0]\n",
    "        d = data['day'][0]\n",
    "        h = data['hour'][0]\n",
    "\n",
    "        values = data['values_uber']\n",
    "        data['value_uber'] = values[744*(m-4) + 24*(d-1) + h]\n",
    "\n",
    "        source.trigger('change');\n",
    "        \n",
    "    } else {\n",
    "        var data = source.data;\n",
    "        var hour = hour.value;\n",
    "\n",
    "        m = data['month'][0]\n",
    "        d = data['day'][0]\n",
    "        h = data['hour'][0]\n",
    "\n",
    "        values = data['values_taxi']\n",
    "        data['value_taxi'] = values[744*(m-4) + 24*(d-1) + h]*2\n",
    "\n",
    "        source.trigger('change'); \n",
    "\"\"\")\n"
   ]
  },
  {
   "cell_type": "code",
   "execution_count": null,
   "metadata": {
    "collapsed": true
   },
   "outputs": [],
   "source": [
    "  \n",
    "    "
   ]
  },
  {
   "cell_type": "code",
   "execution_count": 78,
   "metadata": {},
   "outputs": [],
   "source": [
    "TOOLS = \"pan,wheel_zoom,reset,hover,save\"\n",
    "\n",
    "plot = figure(title=\"Uber Pickup Distribution\", tools=TOOLS, \n",
    "              x_axis_location=None, y_axis_location=None, plot_width=300)\n",
    "plot.plot_height = 600\n",
    "\n",
    "plot.grid.grid_line_color = None\n",
    "\n",
    "plot.patches('x', 'y', source=source,\n",
    "              fill_color={'field': 'value', 'transform': color_mapper},\n",
    "              fill_alpha=0.7, line_color=\"black\", line_width=0.5)\n",
    "\n",
    "hover = plot.select_one(HoverTool)\n",
    "hover.point_policy = \"follow_mouse\"\n",
    "hover.tooltips = [\n",
    "    (\"Name\", \"@name\"),\n",
    "    (\"(Long, Lat)\", \"($x, $y)\"),\n",
    "    (\"Number of pickups\", \"@value\"),\n",
    "    (\"Month\", \"@month\"),\n",
    "    (\"Day\", \"@day\"),\n",
    "    (\"Hour\", \"@hour\")\n",
    "]\n",
    "\n",
    "map_select = Select(title=\"Map:\", value=\"map\", options=['0', '1'], callback=callback_indicator)\n",
    "callback_indicator.args[\"indicator\"] = map_select\n",
    "\n",
    "hour_slider = Slider(start=0, end=23, step=1, value=0, title=\"Hour\", callback=callback_hour)\n",
    "callback_hour.args[\"hour\"] = hour_slider\n",
    "\n",
    "month_select = Select(title=\"Month:\", value=\"Month\", options=['4', '5', '6'], callback=callback_month)\n",
    "callback_month.args[\"month\"] = month_select\n",
    "                                        \n",
    "days = [str(i) for i in list(range(1,32))]\n",
    "day_select = Select(title=\"Day:\", value=\"Day\", options=days, callback=callback_day)\n",
    "callback_day.args[\"day\"] = day_select"
   ]
  },
  {
   "cell_type": "code",
   "execution_count": 76,
   "metadata": {
    "collapsed": true
   },
   "outputs": [],
   "source": [
    "# from bokeh.charts import Dot, show, output_file\n",
    "# data = {\n",
    "#     'sample': ['1st', '2nd', '1st', '2nd', '1st', '2nd'],\n",
    "#     'interpreter': ['python', 'python', 'pypy', 'pypy', 'jython', 'jython'],\n",
    "#     'timing': [-2, 5, 12, 40, 22, 30],\n",
    "# }\n",
    "\n",
    "# # x-axis labels pulled from the interpreter column, stacking labels from sample column\n",
    "# dots = Dot(data, values='timing', label='interpreter',\n",
    "#            group='sample', agg='mean',\n",
    "#            title=\"Python Interpreter Sampling\",\n",
    "#            legend='top_right', width=600)\n",
    "\n",
    "# curdoc().clear()\n",
    "# show(dots)"
   ]
  },
  {
   "cell_type": "code",
   "execution_count": 79,
   "metadata": {
    "collapsed": true
   },
   "outputs": [],
   "source": [
    "curdoc().clear()\n",
    "show(bokeh.layouts.row(plot, checkbox_button_group, widgetbox(hour_slider, month_select, day_select, width=300)))"
   ]
  },
  {
   "cell_type": "code",
   "execution_count": null,
   "metadata": {
    "collapsed": true
   },
   "outputs": [],
   "source": []
  }
 ],
 "metadata": {
  "kernelspec": {
   "display_name": "Python 3",
   "language": "python",
   "name": "python3"
  },
  "language_info": {
   "codemirror_mode": {
    "name": "ipython",
    "version": 3
   },
   "file_extension": ".py",
   "mimetype": "text/x-python",
   "name": "python",
   "nbconvert_exporter": "python",
   "pygments_lexer": "ipython3",
   "version": "3.6.1"
  }
 },
 "nbformat": 4,
 "nbformat_minor": 2
}
