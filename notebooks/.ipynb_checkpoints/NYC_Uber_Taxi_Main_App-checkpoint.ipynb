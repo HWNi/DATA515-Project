{
 "cells": [
  {
   "cell_type": "markdown",
   "metadata": {},
   "source": [
    "# 1. Connect to Azure SQL DB"
   ]
  },
  {
   "cell_type": "code",
   "execution_count": null,
   "metadata": {
    "collapsed": true
   },
   "outputs": [],
   "source": [
    "import pyodbc\n",
    "\n",
    "server = 'dataproject.database.windows.net'\n",
    "database = 'Data515Project'\n",
    "username = 'uberandtaxinyc'\n",
    "password = 'Lzcnhwzcylyw515!'\n",
    "driver= '{ODBC Driver 13 for SQL Server}'\n",
    "cnxn = pyodbc.connect('DRIVER='+driver+';PORT=1433;SERVER='+server+';PORT=1443;DATABASE='+database+';UID='+username+';PWD='+ password)\n",
    "cursor = cnxn.cursor()\n",
    "\n",
    "\n",
    "sql_statement = 'SELECT a.[neighborhood], count(b.[lat]) as pcik_up \\\n",
    "                    FROM [dbo].[neighborhood_column] a \\\n",
    "                    LEFT OUTER JOIN [dbo].[uber_2014_sample] b \\\n",
    "                    ON a.[neighborhood] = b.[neighborhood] \\\n",
    "                    WHERE b.[month] = ' + month + \\\n",
    "                    'AND b.[day] = ' + day + \\\n",
    "                    'AND b.[hour] = ' + hour + \\\n",
    "                    'GROUP BY a.[neighborhood] \\\n",
    "                    ORDER BY a.[neighborhood]'\n",
    "\n",
    "cursor.execute(sql_statement)\n",
    "row = cursor.fetchone()\n",
    "while row:\n",
    "    print(row)\n",
    "    row = cursor.fetchone()"
   ]
  },
  {
   "cell_type": "code",
   "execution_count": null,
   "metadata": {
    "collapsed": true
   },
   "outputs": [],
   "source": [
    "def get_counts(month, day, hour):\n",
    "\t'''\n",
    "\tmonth: the corresponding table name. i.e. apr\n",
    "\tday: int\n",
    "\thour: int\n",
    "\tminute: int\n",
    "\t'''\n",
    "\tprepare_statement = \"SELECT count(*) as count, [neighborhood] FROM [dbo].[\" + month + \"_time] WHERE [hour] = \" \n",
    "\t+ str(hour) + \"group by [neighborhood]\"\n",
    "\tcursor.execute(prepare_statement)\n",
    "\trows = cursor.fetchone()\n",
    "\t#lat_list = []\n",
    "\t#lon_list = []\n",
    "\tneighborhood_list = []\n",
    "\tcount_list = []\n",
    "\tfor row in rows:\n",
    "\t\t#lat_list.append(row.LAT)\n",
    "\t\t#lon_list.append(row.LON)\n",
    "\t\tneighborhood.append(row.neighborhood)\n",
    "\t\tcount_list.append(row.count)\n",
    "\n",
    "\tdics = {}\n",
    "\tkeys = [i for i in neighborhood_list]\n",
    "\n",
    "\n",
    "\tfor key in keys:\n",
    "\t\tdics[i] = count_list[i]\n",
    "\n",
    "\treturn dics"
   ]
  },
  {
   "cell_type": "markdown",
   "metadata": {},
   "source": [
    "# 2. Import cleaned NYC shape data"
   ]
  },
  {
   "cell_type": "code",
   "execution_count": null,
   "metadata": {
    "collapsed": true
   },
   "outputs": [],
   "source": [
    "import json\n",
    "\n",
    "with open('../data/NYC_Shapes_Cleaned.json') as f:\n",
    "    data = json.load(f)\n",
    "nyc_neighborhoods = data"
   ]
  },
  {
   "cell_type": "code",
   "execution_count": null,
   "metadata": {},
   "outputs": [],
   "source": [
    "len(nyc_neighborhoods)"
   ]
  },
  {
   "cell_type": "markdown",
   "metadata": {},
   "source": [
    "# 3. Build Bokeh heat map"
   ]
  },
  {
   "cell_type": "code",
   "execution_count": null,
   "metadata": {
    "collapsed": true
   },
   "outputs": [],
   "source": [
    "import numpy as np\n",
    "import pandas as pd\n",
    "\n",
    "import bokeh.layouts\n",
    "from bokeh.io import curdoc, output_file, show\n",
    "from bokeh.layouts import widgetbox\n",
    "from bokeh.models import (\n",
    "    BoxSelectTool,\n",
    "    Circle, \n",
    "    ColumnDataSource,\n",
    "    CustomJS,\n",
    "    DataRange1d, \n",
    "    GMapPlot,\n",
    "    GMapOptions,\n",
    "    HoverTool,\n",
    "    LogColorMapper,\n",
    "    PanTool,\n",
    "    Slider,\n",
    "    WheelZoomTool,\n",
    ")\n",
    "from bokeh.models.glyphs import Patches\n",
    "from bokeh.models.widgets import Button, RadioButtonGroup, Select, CheckboxButtonGroup\n",
    "from bokeh.palettes import Viridis6 as palette\n",
    "from bokeh.plotting import figure"
   ]
  },
  {
   "cell_type": "code",
   "execution_count": null,
   "metadata": {},
   "outputs": [],
   "source": [
    "palette.reverse()\n",
    "\n",
    "neighborhood_xs = [neighborhood[\"Lon\"] for neighborhood in nyc_neighborhoods.values()]\n",
    "neighborhood_ys = [neighborhood[\"Lat\"] for neighborhood in nyc_neighborhoods.values()]\n",
    "\n",
    "neighborhood_names = list(nyc_neighborhoods.keys())\n",
    "\n",
    "\n",
    "neighborhood_counts = [np.random.randint(100, size = len(nyc_neighborhoods)),\n",
    "                      np.random.randint(100, size = len(nyc_neighborhoods)),\n",
    "                      np.random.randint(100, size = len(nyc_neighborhoods)),\n",
    "                      np.random.randint(100, size = len(nyc_neighborhoods)),\n",
    "                      np.random.randint(100, size = len(nyc_neighborhoods)),\n",
    "                      np.random.randint(100, size = len(nyc_neighborhoods)),\n",
    "                      np.random.randint(100, size = len(nyc_neighborhoods)),\n",
    "                      np.random.randint(100, size = len(nyc_neighborhoods)),\n",
    "                      np.random.randint(100, size = len(nyc_neighborhoods)),\n",
    "                      np.random.randint(100, size = len(nyc_neighborhoods)),\n",
    "                      np.random.randint(100, size = len(nyc_neighborhoods)),\n",
    "                      np.random.randint(100, size = len(nyc_neighborhoods)),\n",
    "                      np.random.randint(100, size = len(nyc_neighborhoods)),\n",
    "                      np.random.randint(100, size = len(nyc_neighborhoods)),\n",
    "                      np.random.randint(100, size = len(nyc_neighborhoods)),\n",
    "                      np.random.randint(100, size = len(nyc_neighborhoods)),\n",
    "                      np.random.randint(100, size = len(nyc_neighborhoods)),\n",
    "                      np.random.randint(100, size = len(nyc_neighborhoods)),\n",
    "                      np.random.randint(100, size = len(nyc_neighborhoods)),\n",
    "                      np.random.randint(100, size = len(nyc_neighborhoods)),\n",
    "                      np.random.randint(100, size = len(nyc_neighborhoods)),\n",
    "                      np.random.randint(100, size = len(nyc_neighborhoods)),\n",
    "                      np.random.randint(100, size = len(nyc_neighborhoods)),\n",
    "                      np.random.randint(100, size = len(nyc_neighborhoods))\n",
    "                      ]\n",
    "hour = np.zeros(len(nyc_neighborhoods), dtype=int)\n",
    "\n",
    "color_mapper = LogColorMapper(palette=palette)\n",
    "\n",
    "source = ColumnDataSource(data=dict(\n",
    "    x = neighborhood_xs,\n",
    "    y = neighborhood_ys,\n",
    "    name = neighborhood_names,\n",
    "    hr = hour,\n",
    "    values = neighborhood_counts,\n",
    "    value = neighborhood_counts[min(hour)]\n",
    "))\n",
    "\n",
    "TOOLS = \"pan,wheel_zoom,reset,hover,save\"\n",
    "\n",
    "plot = figure(title=\"Uber Pickup Distribution\", tools=TOOLS, \n",
    "              x_axis_location=None, y_axis_location=None)\n",
    "\n",
    "plot.grid.grid_line_color = None\n",
    "\n",
    "plot.patches('x', 'y', source=source,\n",
    "              fill_color={'field': 'value', 'transform': color_mapper},\n",
    "              fill_alpha=0.7, line_color=\"black\", line_width=0.5)\n",
    "\n",
    "hover = plot.select_one(HoverTool)\n",
    "hover.point_policy = \"follow_mouse\"\n",
    "hover.tooltips = [\n",
    "    (\"Name\", \"@name\"),\n",
    "    (\"Number of pickups\", \"@value\"),\n",
    "    (\"Hour\", \"@hr\"),\n",
    "    (\"(Long, Lat)\", \"($x, $y)\"),\n",
    "]"
   ]
  },
  {
   "cell_type": "code",
   "execution_count": null,
   "metadata": {},
   "outputs": [],
   "source": []
  },
  {
   "cell_type": "code",
   "execution_count": null,
   "metadata": {
    "collapsed": true
   },
   "outputs": [],
   "source": [
    "callback = CustomJS(args=dict(source=source), code=\"\"\"\n",
    "    var data = source.data;\n",
    "    var month = month.value;\n",
    "    var day = day.value;\n",
    "    var hour = hour.value;\n",
    "    \n",
    "    for (i = 0; i < data['hr'].length; i++) {\n",
    "        data['hr'][i] = hour\n",
    "    }\n",
    "    \n",
    "    values = data['values']\n",
    "    data['value'] = values[hour]\n",
    "    source.trigger('change');\n",
    "\"\"\")\n",
    "\n"
   ]
  },
  {
   "cell_type": "code",
   "execution_count": null,
   "metadata": {
    "collapsed": true
   },
   "outputs": [],
   "source": []
  },
  {
   "cell_type": "code",
   "execution_count": null,
   "metadata": {
    "collapsed": true
   },
   "outputs": [],
   "source": [
    "checkbox_button_group = CheckboxButtonGroup(labels=[\"Uber\", \"Taxi\"], active=[0, 1])\n",
    "\n",
    "hour_slider = Slider(start=0, end=23, step=1, title=\"Hour\", callback = callback)\n",
    "callback.args[\"hour\"] = hour_slider\n",
    "\n",
    "month_select = Select(title=\"Month:\", value=\"Month\", options=[\"April\", \"May\", \"June\"])\n",
    "callback.args[\"month\"] = month_select\n",
    "\n",
    "days = [str(i) for i in list(range(1,32))]\n",
    "day_select = Select(title=\"Day:\", value=\"Day\", options=days)\n",
    "callback.args[\"day\"] = day_select"
   ]
  },
  {
   "cell_type": "code",
   "execution_count": null,
   "metadata": {
    "collapsed": true
   },
   "outputs": [],
   "source": [
    "curdoc().clear()\n",
    "show(bokeh.layouts.row(plot, checkbox_button_group, widgetbox(hour_slider, select1, select2, width=300)))"
   ]
  },
  {
   "cell_type": "code",
   "execution_count": null,
   "metadata": {
    "collapsed": true
   },
   "outputs": [],
   "source": []
  }
 ],
 "metadata": {
  "kernelspec": {
   "display_name": "Python 3",
   "language": "python",
   "name": "python3"
  },
  "language_info": {
   "codemirror_mode": {
    "name": "ipython",
    "version": 3
   },
   "file_extension": ".py",
   "mimetype": "text/x-python",
   "name": "python",
   "nbconvert_exporter": "python",
   "pygments_lexer": "ipython3",
   "version": "3.6.1"
  }
 },
 "nbformat": 4,
 "nbformat_minor": 1
}
