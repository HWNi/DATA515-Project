{
 "cells": [
  {
   "cell_type": "markdown",
   "metadata": {},
   "source": [
    "# 1. Connect to Azure SQL DB"
   ]
  },
  {
   "cell_type": "code",
   "execution_count": null,
   "metadata": {
    "collapsed": true
   },
   "outputs": [],
   "source": [
    "import pyodbc\n",
    "\n",
    "server = 'dataproject.database.windows.net'\n",
    "database = 'Data515Project'\n",
    "username = 'uberandtaxinyc'\n",
    "password = 'Lzcnhwzcylyw515!'\n",
    "driver= '{ODBC Driver 13 for SQL Server}'\n",
    "cnxn = pyodbc.connect('DRIVER='+driver+';PORT=1433;SERVER='+server+';PORT=1443;DATABASE='+database+';UID='+username+';PWD='+ password)\n",
    "cursor = cnxn.cursor()\n",
    "\n",
    "\n",
    "sql_statement = 'SELECT a.[neighborhood], count(b.[lat]) as pcik_up \\\n",
    "                    FROM [dbo].[neighborhood_column] a \\\n",
    "                    LEFT OUTER JOIN [dbo].[uber_2014_sample] b \\\n",
    "                    ON a.[neighborhood] = b.[neighborhood] \\\n",
    "                    WHERE b.[month] = ' + month + \\\n",
    "                    'AND b.[day] = ' + day + \\\n",
    "                    'AND b.[hour] = ' + hour + \\\n",
    "                    'GROUP BY a.[neighborhood] \\\n",
    "                    ORDER BY a.[neighborhood]'\n",
    "\n",
    "cursor.execute(sql_statement)\n",
    "row = cursor.fetchone()\n",
    "while row:\n",
    "    print(row)\n",
    "    row = cursor.fetchone()"
   ]
  },
  {
   "cell_type": "code",
   "execution_count": null,
   "metadata": {
    "collapsed": true
   },
   "outputs": [],
   "source": [
    "def get_counts(month, day, hour):\n",
    "\t'''\n",
    "\tmonth: the corresponding table name. i.e. apr\n",
    "\tday: int\n",
    "\thour: int\n",
    "\tminute: int\n",
    "\t'''\n",
    "\tprepare_statement = \"SELECT count(*) as count, [neighborhood] FROM [dbo].[\" + month + \"_time] WHERE [hour] = \" \n",
    "\t+ str(hour) + \"group by [neighborhood]\"\n",
    "\tcursor.execute(prepare_statement)\n",
    "\trows = cursor.fetchone()\n",
    "\t#lat_list = []\n",
    "\t#lon_list = []\n",
    "\tneighborhood_list = []\n",
    "\tcount_list = []\n",
    "\tfor row in rows:\n",
    "\t\t#lat_list.append(row.LAT)\n",
    "\t\t#lon_list.append(row.LON)\n",
    "\t\tneighborhood.append(row.neighborhood)\n",
    "\t\tcount_list.append(row.count)\n",
    "\n",
    "\tdics = {}\n",
    "\tkeys = [i for i in neighborhood_list]\n",
    "\n",
    "\n",
    "\tfor key in keys:\n",
    "\t\tdics[i] = count_list[i]\n",
    "\n",
    "\treturn dics"
   ]
  },
  {
   "cell_type": "markdown",
   "metadata": {},
   "source": [
    "# 2. Import cleaned NYC shape data"
   ]
  },
  {
   "cell_type": "code",
   "execution_count": 1,
   "metadata": {
    "collapsed": true
   },
   "outputs": [],
   "source": [
    "import json\n",
    "\n",
    "with open('../data/NYC_Shapes_Cleaned.json') as f:\n",
    "    data = json.load(f)\n",
    "nyc_neighborhoods = data"
   ]
  },
  {
   "cell_type": "code",
   "execution_count": 2,
   "metadata": {},
   "outputs": [
    {
     "data": {
      "text/plain": [
       "195"
      ]
     },
     "execution_count": 2,
     "metadata": {},
     "output_type": "execute_result"
    }
   ],
   "source": [
    "len(nyc_neighborhoods)"
   ]
  },
  {
   "cell_type": "markdown",
   "metadata": {},
   "source": [
    "# 3. Build Bokeh heat map"
   ]
  },
  {
   "cell_type": "code",
   "execution_count": 3,
   "metadata": {
    "collapsed": true
   },
   "outputs": [],
   "source": [
    "import numpy as np\n",
    "import pandas as pd\n",
    "\n",
    "import bokeh.layouts\n",
    "from bokeh.io import curdoc, output_file, show\n",
    "from bokeh.layouts import widgetbox\n",
    "from bokeh.models import (\n",
    "    BoxSelectTool,\n",
    "    Circle, \n",
    "    ColumnDataSource,\n",
    "    CustomJS,\n",
    "    DataRange1d, \n",
    "    GMapPlot,\n",
    "    GMapOptions,\n",
    "    HoverTool,\n",
    "    LogColorMapper,\n",
    "    PanTool,\n",
    "    Slider,\n",
    "    WheelZoomTool,\n",
    ")\n",
    "from bokeh.models.glyphs import Patches\n",
    "from bokeh.models.widgets import Button, RadioButtonGroup, Select, CheckboxButtonGroup\n",
    "from bokeh.palettes import Viridis6 as palette\n",
    "from bokeh.plotting import figure"
   ]
  },
  {
   "cell_type": "code",
   "execution_count": null,
   "metadata": {
    "collapsed": true
   },
   "outputs": [],
   "source": []
  },
  {
   "cell_type": "code",
   "execution_count": 4,
   "metadata": {},
   "outputs": [
    {
     "name": "stderr",
     "output_type": "stream",
     "text": [
      "C:\\Users\\HAOWEN-PC\\Anaconda3\\lib\\site-packages\\bokeh\\models\\sources.py:89: BokehUserWarning: ColumnDataSource's columns must be of the same length\n",
      "  lambda: warnings.warn(\"ColumnDataSource's columns must be of the same length\", BokehUserWarning))\n"
     ]
    }
   ],
   "source": [
    "palette.reverse()\n",
    "\n",
    "color_mapper = LogColorMapper(palette=palette)\n",
    "\n",
    "neighborhood_xs = [neighborhood[\"Lon\"] for neighborhood in nyc_neighborhoods.values()]\n",
    "neighborhood_ys = [neighborhood[\"Lat\"] for neighborhood in nyc_neighborhoods.values()]\n",
    "\n",
    "neighborhood_names = list(nyc_neighborhoods.keys())\n",
    "\n",
    "# Warning\n",
    "# It is critical to note that no python code is ever executed when a CustomJS callback is used. \n",
    "# A CustomJS callback is only executed inside a browser JavaScript interpreter, \n",
    "# and can only directly interact JavaScript data and functions (e.g., BokehJS Backbone models).\n",
    "#\n",
    "# Thoughts: \n",
    "# Prepare the Uber pickup counts data, save them in to a matrix\n",
    "# Dimensions: row number = month# * day#  * hour#  = 3*31*24 = 2232\n",
    "#            column # = 195\n",
    "#\n",
    "\n",
    "\n",
    "neighborhood_counts =np.zeros(195)\n",
    "for i in range(1, 744*3):\n",
    "    append_row = np.zeros(195)+i\n",
    "    neighborhood_counts = np.vstack((neighborhood_counts, append_row))\n",
    "\n",
    "neighborhood_counts = neighborhood_counts.tolist()\n",
    "\n",
    "\n",
    "# All 195 columns with given input value\n",
    "months = np.zeros(len(nyc_neighborhoods), dtype=int)+4\n",
    "\n",
    "days = np.zeros(len(nyc_neighborhoods), dtype=int)+1\n",
    "\n",
    "hours = np.zeros(len(nyc_neighborhoods), dtype=int)\n",
    "\n",
    "\n",
    "source = ColumnDataSource(data=dict(\n",
    "    x = neighborhood_xs,\n",
    "    y = neighborhood_ys,\n",
    "    name = neighborhood_names,\n",
    "    \n",
    "    month = months,\n",
    "    day = days,\n",
    "    hour = hours,\n",
    "    \n",
    "    values = neighborhood_counts,\n",
    "    value = neighborhood_counts[0]\n",
    "    # 0-based\n",
    "    # One month: 31*24 = 744 rows\n",
    "    # One day: 24 rows\n",
    "    #\n",
    "    \n",
    "    # April: row 0-743 (0:744)\n",
    "        # Day: chunck size 31\n",
    "            # hour: chunck size 24\n",
    "    # May: row 744-1487 (744:1488)\n",
    "    # Jun: row 1488-end\n",
    "    \n",
    "    # Example:month 5 day 12 hour 18 \n",
    "    # index = 744*($5$-4) + 24*($12$-1) + $18$\n",
    "    \n",
    "    # value = neighborhood_counts[744*(min(months)-4) + 24*(min(days)-1) + min(hours)]\n",
    "    \n",
    "))\n",
    "\n"
   ]
  },
  {
   "cell_type": "code",
   "execution_count": 6,
   "metadata": {},
   "outputs": [],
   "source": [
    "callback_month = CustomJS(args=dict(source=source), code=\"\"\"\n",
    "    var data = source.data;\n",
    "    var month = month.value;\n",
    "    \n",
    "    d = data['day'][0]\n",
    "    h = data['hour'][0]\n",
    "    \n",
    "    \n",
    "    for (i = 0; i < data['month'].length; i++) {\n",
    "        data['month'][i] = month\n",
    "    }\n",
    "    \n",
    "    values = data['values']\n",
    "    data['value'] = values[744*(month-4) + 24*(d-1) + h]\n",
    "    \n",
    "    source.trigger('change');\n",
    "\"\"\")\n",
    "\n",
    "callback_day = CustomJS(args=dict(source=source), code=\"\"\"\n",
    "    var data = source.data;\n",
    "    var day = day.value;\n",
    "    \n",
    "    m = data['month'][0]\n",
    "    h = data['hour'][0]\n",
    "\n",
    "    for (i = 0; i < data['day'].length; i++) {\n",
    "        data['day'][i] = day\n",
    "    }\n",
    "    \n",
    "    values = data['values']\n",
    "    data['value'] = values[744*(m-4) + 24*(day-1) + h]\n",
    "\n",
    "    source.trigger('change');\n",
    "\"\"\")\n",
    "\n",
    "callback_hour = CustomJS(args=dict(source=source), code=\"\"\"\n",
    "    var data = source.data;\n",
    "    var hour = hour.value;\n",
    "    \n",
    "    m = data['month'][0]\n",
    "    d = data['day'][0]\n",
    "    \n",
    "    for (i = 0; i < data['hour'].length; i++) {\n",
    "        data['hour'][i] = hour\n",
    "    }\n",
    "    \n",
    "    values = data['values']\n",
    "    data['value'] = values[744*(m-4) + 24*(d-1) + hour]\n",
    "    \n",
    "    source.trigger('change');\n",
    "\"\"\")\n"
   ]
  },
  {
   "cell_type": "code",
   "execution_count": null,
   "metadata": {
    "collapsed": true
   },
   "outputs": [],
   "source": []
  },
  {
   "cell_type": "code",
   "execution_count": 7,
   "metadata": {},
   "outputs": [],
   "source": [
    "TOOLS = \"pan,wheel_zoom,reset,hover,save\"\n",
    "\n",
    "plot = figure(title=\"Uber Pickup Distribution\", tools=TOOLS, \n",
    "              x_axis_location=None, y_axis_location=None)\n",
    "\n",
    "plot.grid.grid_line_color = None\n",
    "\n",
    "plot.patches('x', 'y', source=source,\n",
    "              fill_color={'field': 'value', 'transform': color_mapper},\n",
    "              fill_alpha=0.7, line_color=\"black\", line_width=0.5)\n",
    "\n",
    "hover = plot.select_one(HoverTool)\n",
    "hover.point_policy = \"follow_mouse\"\n",
    "hover.tooltips = [\n",
    "    (\"Name\", \"@name\"),\n",
    "    (\"(Long, Lat)\", \"($x, $y)\"),\n",
    "    (\"Number of pickups\", \"@value\"),\n",
    "    (\"Month\", \"@month\"),\n",
    "    (\"Day\", \"@day\"),\n",
    "    (\"Hour\", \"@hour\")\n",
    "]\n",
    "\n",
    "checkbox_button_group = CheckboxButtonGroup(labels=[\"Uber\", \"Taxi\"], active=[0, 1])\n",
    "\n",
    "hour_slider = Slider(start=0, end=23, step=1, value=0, title=\"Hour\", callback = callback_hour)\n",
    "callback_hour.args[\"hour\"] = hour_slider\n",
    "\n",
    "month_select = Select(title=\"Month:\", value=\"Month\", options=['4', '5', '6'], callback=callback_month)\n",
    "callback_month.args[\"month\"] = month_select\n",
    "                                        \n",
    "days = [str(i) for i in list(range(1,32))]\n",
    "day_select = Select(title=\"Day:\", value=\"Day\", options=days, callback=callback_day)\n",
    "callback_day.args[\"day\"] = day_select"
   ]
  },
  {
   "cell_type": "code",
   "execution_count": 8,
   "metadata": {
    "collapsed": true
   },
   "outputs": [],
   "source": [
    "curdoc().clear()\n",
    "show(bokeh.layouts.row(plot, checkbox_button_group, widgetbox(hour_slider, month_select, day_select, width=300)))"
   ]
  },
  {
   "cell_type": "code",
   "execution_count": null,
   "metadata": {
    "collapsed": true
   },
   "outputs": [],
   "source": []
  },
  {
   "cell_type": "code",
   "execution_count": null,
   "metadata": {
    "collapsed": true
   },
   "outputs": [],
   "source": []
  }
 ],
 "metadata": {
  "kernelspec": {
   "display_name": "Python 3",
   "language": "python",
   "name": "python3"
  },
  "language_info": {
   "codemirror_mode": {
    "name": "ipython",
    "version": 3
   },
   "file_extension": ".py",
   "mimetype": "text/x-python",
   "name": "python",
   "nbconvert_exporter": "python",
   "pygments_lexer": "ipython3",
   "version": "3.6.1"
  }
 },
 "nbformat": 4,
 "nbformat_minor": 1
}
