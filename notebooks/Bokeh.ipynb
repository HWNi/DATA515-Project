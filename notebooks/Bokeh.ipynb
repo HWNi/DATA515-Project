{
 "cells": [
  {
   "cell_type": "code",
   "execution_count": 4,
   "metadata": {
    "collapsed": true
   },
   "outputs": [],
   "source": [
    "import numpy as np\n",
    "import pandas as pd\n",
    "\n",
    "import bokeh.layouts\n",
    "from bokeh.io import curdoc, output_file, show\n",
    "from bokeh.layouts import widgetbox\n",
    "from bokeh.models import (\n",
    "    BoxSelectTool,\n",
    "    Circle, \n",
    "    ColumnDataSource,\n",
    "    CustomJS,\n",
    "    DataRange1d, \n",
    "    GMapPlot,\n",
    "    GMapOptions,\n",
    "    HoverTool,\n",
    "    LogColorMapper,\n",
    "    PanTool,\n",
    "    Slider,\n",
    "    WheelZoomTool,\n",
    ")\n",
    "from bokeh.models.glyphs import Patches\n",
    "from bokeh.models.widgets import Button, RadioButtonGroup, Select, CheckboxButtonGroup\n",
    "from bokeh.palettes import Viridis6 as palette\n",
    "from bokeh.plotting import figure"
   ]
  },
  {
   "cell_type": "code",
   "execution_count": 5,
   "metadata": {},
   "outputs": [
    {
     "data": {
      "text/plain": [
       "195"
      ]
     },
     "execution_count": 5,
     "metadata": {},
     "output_type": "execute_result"
    }
   ],
   "source": [
    "with open('NYC_boundries_cleaned.json') as f:\n",
    "    data = json.load(f)\n",
    "nyc_neighborhoods = data\n",
    "len(nyc_neighborhoods)"
   ]
  },
  {
   "cell_type": "markdown",
   "metadata": {},
   "source": [
    "# 3. Build Bokeh heat map"
   ]
  },
  {
   "cell_type": "code",
   "execution_count": 6,
   "metadata": {},
   "outputs": [],
   "source": [
    "palette.reverse()\n",
    "\n",
    "color_mapper = LogColorMapper(palette=palette)\n",
    "\n",
    "neighborhood_xs = [neighborhood[\"Lon\"] for neighborhood in nyc_neighborhoods.values()]\n",
    "neighborhood_ys = [neighborhood[\"Lat\"] for neighborhood in nyc_neighborhoods.values()]\n",
    "\n",
    "neighborhood_names = list(nyc_neighborhoods.keys())\n",
    "\n",
    "# list 195 columns\n",
    "# \n",
    "\n",
    "neighborhood_counts = np.zeros(len(nyc_neighborhoods), dtype=int)\n",
    "\n",
    "# All 195 columns with given input value\n",
    "months = np.zeros(len(nyc_neighborhoods), dtype=int)\n",
    "\n",
    "days = np.zeros(len(nyc_neighborhoods), dtype=int)\n",
    "\n",
    "hours = np.zeros(len(nyc_neighborhoods), dtype=int)\n",
    "\n",
    "\n",
    "source = ColumnDataSource(data=dict(\n",
    "    x = neighborhood_xs,\n",
    "    y = neighborhood_ys,\n",
    "    name = neighborhood_names,\n",
    "    month = months,\n",
    "    day = days,\n",
    "    hour = hours,\n",
    "    value = neighborhood_counts\n",
    "))\n",
    "\n",
    "TOOLS = \"pan,wheel_zoom,reset,hover,save\"\n",
    "\n",
    "plot = figure(title=\"Uber Pickup Distribution\", tools=TOOLS, \n",
    "              x_axis_location=None, y_axis_location=None)\n",
    "\n",
    "plot.grid.grid_line_color = None\n",
    "\n",
    "plot.patches('x', 'y', source=source,\n",
    "              fill_color={'field': 'value', 'transform': color_mapper},\n",
    "              fill_alpha=0.7, line_color=\"black\", line_width=0.5)\n",
    "\n",
    "hover = plot.select_one(HoverTool)\n",
    "hover.point_policy = \"follow_mouse\"\n",
    "hover.tooltips = [\n",
    "    (\"Name\", \"@name\"),\n",
    "    (\"(Long, Lat)\", \"($x, $y)\"),\n",
    "    (\"Number of pickups\", \"@value\"),\n",
    "    (\"Month\", \"@month\"),\n",
    "    (\"Day\", \"@day\"),\n",
    "    (\"Hour\", \"@hour\")\n",
    "]"
   ]
  },
  {
   "cell_type": "code",
   "execution_count": 7,
   "metadata": {
    "collapsed": true
   },
   "outputs": [],
   "source": [
    "callback = CustomJS(args=dict(source=source), code=\"\"\"\n",
    "    var data = source.data;\n",
    "    \n",
    "    var month = month.value;\n",
    "    var day = day.value;\n",
    "    var hour = hour.value;\n",
    "    \n",
    "    for (i = 0; i < data['month'].length; i++) {\n",
    "        data['month'][i] = month\n",
    "    }\n",
    "    \n",
    "     for (i = 0; i < data['day'].length; i++) {\n",
    "        data['day'][i] = day\n",
    "    }\n",
    "    \n",
    "     for (i = 0; i < data['hour'].length; i++) {\n",
    "        data['hour'][i] = hour\n",
    "    }\n",
    "    \n",
    "    for (i = 0; i < data['value'].length; i++) {\n",
    "        data['value'][i] = hour\n",
    "    }\n",
    "    \n",
    "    source.trigger('change');\n",
    "\"\"\")\n",
    "\n",
    "\n"
   ]
  },
  {
   "cell_type": "code",
   "execution_count": 34,
   "metadata": {},
   "outputs": [],
   "source": [
    "checkbox_button_group = CheckboxButtonGroup(labels=[\"Uber\", \"Taxi\"], active=[0, 1])\n",
    "\n",
    "hour_slider = Slider(start=0, end=23, step=1, value=0, title=\"Hour\", callback = callback)\n",
    "callback.args[\"hour\"] = hour_slider\n",
    "\n",
    "month_select = Select(title=\"Month:\", value=\"Month\", options=['4', '5', '6'], callback=callback)\n",
    "callback.args[\"month\"] = month_select\n",
    "                                        \n",
    "days = [str(i) for i in list(range(1,32))]\n",
    "day_select = Select(title=\"Day:\", value=\"Day\", options=days, callback=callback)\n",
    "callback.args[\"day\"] = day_select"
   ]
  },
  {
   "cell_type": "code",
   "execution_count": 35,
   "metadata": {
    "collapsed": true
   },
   "outputs": [],
   "source": [
    "curdoc().clear()\n",
    "show(bokeh.layouts.row(plot, checkbox_button_group, widgetbox(hour_slider, month_select, day_select, width=300)))"
   ]
  },
  {
   "cell_type": "code",
   "execution_count": null,
   "metadata": {
    "collapsed": true
   },
   "outputs": [],
   "source": []
  }
 ],
 "metadata": {
  "kernelspec": {
   "display_name": "Python 3",
   "language": "python",
   "name": "python3"
  },
  "language_info": {
   "codemirror_mode": {
    "name": "ipython",
    "version": 3
   },
   "file_extension": ".py",
   "mimetype": "text/x-python",
   "name": "python",
   "nbconvert_exporter": "python",
   "pygments_lexer": "ipython3",
   "version": "3.6.1"
  }
 },
 "nbformat": 4,
 "nbformat_minor": 2
}
