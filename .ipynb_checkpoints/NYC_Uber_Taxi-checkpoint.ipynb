{
 "cells": [
  {
   "cell_type": "markdown",
   "metadata": {},
   "source": [
    "# Get data from Azure SQL DB"
   ]
  },
  {
   "cell_type": "code",
   "execution_count": 1,
   "metadata": {
    "collapsed": false,
    "deletable": true,
    "editable": true
   },
   "outputs": [
    {
     "name": "stdout",
     "output_type": "stream",
     "text": [
      "(12674, )\n"
     ]
    }
   ],
   "source": [
    "import pyodbc\n",
    "\n",
    "server = 'dataproject.database.windows.net'\n",
    "database = 'Data515Project'\n",
    "username = 'uberandtaxinyc'\n",
    "password = 'Lzcnhwzcylyw515!'\n",
    "driver= '{ODBC Driver 13 for SQL Server}'\n",
    "cnxn = pyodbc.connect('DRIVER='+driver+';PORT=1433;SERVER='+server+';PORT=1443;DATABASE='+database+';UID='+username+';PWD='+ password)\n",
    "cursor = cnxn.cursor()\n",
    "cursor.execute(\"SELECT COUNT(*) FROM [dbo].[apr_time] WHERE [day] = 14\")\n",
    "row = cursor.fetchone()\n",
    "while row:\n",
    "    print(row)\n",
    "    row = cursor.fetchone()"
   ]
  },
  {
   "cell_type": "markdown",
   "metadata": {},
   "source": [
    "# Import and clean the data"
   ]
  },
  {
   "cell_type": "code",
   "execution_count": null,
   "metadata": {
    "collapsed": true,
    "deletable": true,
    "editable": true
   },
   "outputs": [],
   "source": [
    "import json\n",
    "\n",
    "def read_json(filename):\n",
    "    \"\"\"\n",
    "    A function read the json file and process the Neighborhoods and Coordinates\n",
    "\n",
    "    Parameter: filename, a json file)\n",
    "\n",
    "    Return: result, a dictionary contains\n",
    "            key: Neighborhood,\n",
    "            value: a list of coordinate corresponding to the that neighborhood\n",
    "    \"\"\"\n",
    "\n",
    "    with open(filename) as f:\n",
    "        data = json.load(f)\n",
    "\n",
    "    result = {}\n",
    "    for feature in data['features']:\n",
    "        \n",
    "        # NATName = Neighborhood Tabulation Area Name\n",
    "        \n",
    "        neighborhood = feature['properties']['NTAName']\n",
    "        coordinates = feature['geometry']['coordinates'][0] # 3 layers or 2 layers\n",
    "        \n",
    "        if len(coordinates[0]) > 2:\n",
    "            # 3 layers\n",
    "            coordinates = coordinates[0]\n",
    "\n",
    "        result[neighborhood] = coordinates\n",
    "\n",
    "    return result\n"
   ]
  },
  {
   "cell_type": "code",
   "execution_count": null,
   "metadata": {
    "collapsed": true,
    "deletable": true,
    "editable": true
   },
   "outputs": [],
   "source": [
    "result = read_json(\"query.geojson\")"
   ]
  },
  {
   "cell_type": "code",
   "execution_count": null,
   "metadata": {
    "collapsed": true,
    "deletable": true,
    "editable": true
   },
   "outputs": [],
   "source": []
  }
 ],
 "metadata": {
  "kernelspec": {
   "display_name": "Python 3",
   "language": "python",
   "name": "python3"
  },
  "language_info": {
   "codemirror_mode": {
    "name": "ipython",
    "version": 3
   },
   "file_extension": ".py",
   "mimetype": "text/x-python",
   "name": "python",
   "nbconvert_exporter": "python",
   "pygments_lexer": "ipython3",
   "version": "3.6.0"
  }
 },
 "nbformat": 4,
 "nbformat_minor": 2
}
