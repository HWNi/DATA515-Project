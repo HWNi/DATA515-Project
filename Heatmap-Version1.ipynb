{
 "cells": [
  {
   "cell_type": "code",
   "execution_count": 1,
   "metadata": {
    "collapsed": true
   },
   "outputs": [],
   "source": [
    "import numpy as np\n",
    "import pandas as pd\n",
    "\n",
    "from bokeh.io import output_file, show\n",
    "from bokeh.layouts import widgetbox\n",
    "from bokeh.models.widgets import Button, RadioButtonGroup, Select, CheckboxButtonGroup\n",
    "import bokeh.layouts\n",
    "from bokeh.models import (\n",
    "  GMapPlot, GMapOptions, ColumnDataSource, Circle, DataRange1d, PanTool, WheelZoomTool,\n",
    "    BoxSelectTool,CustomJS, Slider\n",
    ")"
   ]
  },
  {
   "cell_type": "markdown",
   "metadata": {},
   "source": [
    "#### Load Data"
   ]
  },
  {
   "cell_type": "code",
   "execution_count": 2,
   "metadata": {
    "collapsed": true
   },
   "outputs": [],
   "source": [
    "import json\n",
    "\n",
    "with open('NYC_boundries_cleaned.json') as data_file:\n",
    "    \n",
    "    nyc_neighborhoods = json.load(data_file)"
   ]
  },
  {
   "cell_type": "code",
   "execution_count": 5,
   "metadata": {
    "collapsed": true
   },
   "outputs": [],
   "source": [
    "from bokeh.io import show\n",
    "from bokeh.models import (\n",
    "    ColumnDataSource,\n",
    "    HoverTool,\n",
    "    LogColorMapper\n",
    ")\n",
    "from bokeh.palettes import Viridis6 as palette\n",
    "from bokeh.plotting import figure\n",
    "\n",
    "# from bokeh.sampledata.us_counties import data as counties\n",
    "# from bokeh.sampledata.unemployment import data as unemployment\n",
    "\n",
    "palette.reverse()\n",
    "\n",
    "# counties = {\n",
    "#     code: county for code, county in counties.items() if county[\"state\"] == \"ny\"\n",
    "# }\n",
    "\n",
    "neighborhood_xs = [neighborhood[\"Lon\"] for neighborhood in nyc_neighborhoods.values()]\n",
    "neighborhood_ys = [neighborhood[\"Lat\"] for neighborhood in nyc_neighborhoods.values()]\n",
    "neighborhoods = list(nyc_neighborhoods.keys())\n",
    "num_nodes = [len(neighborhood[\"Lat\"]) for neighborhood in nyc_neighborhoods.values()]\n",
    "\n",
    "# county_names = [county['name'] for county in counties.values()]\n",
    "# county_rates = [unemployment[county_id] for county_id in counties]\n",
    "color_mapper = LogColorMapper(palette=palette)\n",
    "\n",
    "source = ColumnDataSource(data=dict(\n",
    "    x=neighborhood_xs,\n",
    "    y=neighborhood_ys,\n",
    "    neighborhood=neighborhoods,\n",
    "    node=num_nodes\n",
    "))\n",
    "\n",
    "TOOLS = \"pan,wheel_zoom,reset,hover,save\"\n",
    "\n",
    "p = figure(\n",
    "    title=\"NY Traffic\", tools=TOOLS,\n",
    "    x_axis_location=None, y_axis_location=None\n",
    ")\n",
    "p.grid.grid_line_color = None\n",
    "\n",
    "p.patches('x', 'y', source=source,\n",
    "          fill_color={'field': 'node', 'transform': color_mapper},\n",
    "          fill_alpha=0.7, line_color=\"black\", line_width=0.5)\n",
    "\n",
    "hover = p.select_one(HoverTool)\n",
    "hover.point_policy = \"follow_mouse\"\n",
    "hover.tooltips = [\n",
    "    (\"Name\", \"@neighborhood\"),\n",
    "    (\"Number of nodes\", \"@node%\"),\n",
    "    (\"(Long, Lat)\", \"($x, $y)\"),\n",
    "]\n",
    "\n",
    "\n",
    "checkbox_button_group = CheckboxButtonGroup(\n",
    "        labels=[\"Uber\", \"Taxi\"], active=[0, 1])\n",
    "slider = Slider(start=0, end=23, step=1, title=\"Hour\")\n",
    "select1 = Select(title=\"Month:\", value=\"Month\", options=[\"April\", \"May\", \"June\", \"July\", \"August\", \"September\"])\n",
    "select2 = Select(title=\"Date:\", value=\"Date\", options=[\"1\", \"2\", \"3\", \"4\", \"5\", \"6\", \"7\"])\n",
    "\n",
    "show(bokeh.layouts.row(p, checkbox_button_group, widgetbox(slider, select1, select2, width=300)))"
   ]
  },
  {
   "cell_type": "code",
   "execution_count": null,
   "metadata": {
    "collapsed": true
   },
   "outputs": [],
   "source": []
  }
 ],
 "metadata": {
  "kernelspec": {
   "display_name": "Python 3",
   "language": "python",
   "name": "python3"
  },
  "language_info": {
   "codemirror_mode": {
    "name": "ipython",
    "version": 3
   },
   "file_extension": ".py",
   "mimetype": "text/x-python",
   "name": "python",
   "nbconvert_exporter": "python",
   "pygments_lexer": "ipython3",
   "version": "3.6.1"
  }
 },
 "nbformat": 4,
 "nbformat_minor": 2
}
